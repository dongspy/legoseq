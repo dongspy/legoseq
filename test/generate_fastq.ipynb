{
 "cells": [
  {
   "cell_type": "code",
   "execution_count": 1,
   "id": "491bc689-8b59-48d5-a563-7cf86cbc904f",
   "metadata": {},
   "outputs": [],
   "source": [
    "import random\n",
    "random.seed(99)"
   ]
  },
  {
   "cell_type": "code",
   "execution_count": 2,
   "id": "a30ec097-e39d-4458-96e2-685f81189ea1",
   "metadata": {
    "tags": []
   },
   "outputs": [],
   "source": [
    "def reverse_complement(seq):\n",
    "    complement = {'A': 'T', 'T': 'A', 'C': 'G', 'G': 'C'}\n",
    "    return ''.join(complement[base] for base in reversed(seq))"
   ]
  },
  {
   "cell_type": "code",
   "execution_count": 3,
   "id": "9b830625-8d0e-40f1-9889-9da8d9e99521",
   "metadata": {
    "tags": []
   },
   "outputs": [],
   "source": [
    "import random\n",
    "import string\n",
    "\n",
    "def random_base():\n",
    "    return random.choice(['A', 'T', 'C', 'G'])\n",
    "\n",
    "def random_quality(quality_range=40):\n",
    "    # Assuming Phred+33 encoding for quality scores\n",
    "    return chr(random.randint(33, 33 + quality_range - 1))\n",
    "\n",
    "def random_string(length):\n",
    "    return ''.join(random.choice(string.ascii_letters + string.digits) for _ in range(length))\n",
    "\n",
    "def generate_fastq_record(seq_length=100):\n",
    "    # Generate random sequence\n",
    "    sequence = ''.join(random_base() for _ in range(seq_length))\n",
    "\n",
    "    # Generate random quality scores\n",
    "    quality = ''.join(random_quality() for _ in range(seq_length))\n",
    "\n",
    "    # Generate random identifier\n",
    "    read_name = random_string(10)\n",
    "\n",
    "    return read_name, sequence, quality\n",
    "\n",
    "# if __name__ == \"__main__\":\n",
    "#     print(generate_fastq_record())\n"
   ]
  },
  {
   "cell_type": "code",
   "execution_count": 4,
   "id": "5063e193-1b30-439b-b6b4-a5d02d119cbe",
   "metadata": {
    "tags": []
   },
   "outputs": [],
   "source": [
    "def read_fasta(path):\n",
    "    with open(path) as f:\n",
    "        for line in f:\n",
    "            name = line[1:-1]\n",
    "            fq = next(fq)[:-1]\n",
    "            yield name, fq"
   ]
  },
  {
   "cell_type": "code",
   "execution_count": 5,
   "id": "cb791f44-9950-4aec-bbee-ffc60d638e22",
   "metadata": {
    "tags": []
   },
   "outputs": [],
   "source": [
    "fix1_list = [\"GTCACGGGTATATGAG\",\n",
    "\"GTCACGGGTATATGGA\",\n",
    "\"GTCACGGGTATCACCA\",\n",
    "\"GTCACGGGTATCAGTC\",\n",
    "\"GTCACGGGTATCGCAT\",\n",
    "\"GTCACGGGTATCTGCA\",\n",
    "\"GTCACGGGTATGAAAC\",\n",
    "\"GTCACGGGTATGAATG\",\n",
    "\"GTCACGGGTCAAACTC\",\n",
    "\"GTCACGGGTCAAAGAT\"]"
   ]
  },
  {
   "cell_type": "code",
   "execution_count": 6,
   "id": "6c0ade78-10fd-4978-bc50-07dff2555fc1",
   "metadata": {
    "tags": []
   },
   "outputs": [],
   "source": [
    "fix2_list = [\n",
    " \"GTCATTTAGAACAACT\",\n",
    "\"GTCATTTAGAACAATC\",\n",
    "\"GTCATTTAGAACTCGG\",\n",
    "\"GTCATTTAGAACTGTA\",\n",
    "\"GTCATTTAGAAGAAGC\",\n",
    "\"GTCATTTAGAAGATTC\",\n",
    "\"GTCATTTAGAAGCCCA\",\n",
    "\"GTCATTTAGAATAGGG\",\n",
    "\"GTCATTTAGAATCTCC\",\n",
    "\"GTCATTTAGAATGTGT\",\n",
    "\"GTCATTTAGAATGTTG\",\n",
    "\"GTCATTTAGAATTCCC\"\n",
    "]"
   ]
  },
  {
   "cell_type": "code",
   "execution_count": 7,
   "id": "9ef85823-37cb-4fc1-b90a-d293f587a22e",
   "metadata": {
    "tags": []
   },
   "outputs": [],
   "source": [
    "barcode_list = [\n",
    "\"AAACCTGAGAAACCAT\",\n",
    "\"AAACCTGAGAAACCGC\",\n",
    "\"AAACCTGAGAAACCTA\",\n",
    "\"AAACCTGAGAAACGAG\",\n",
    "\"AAACCTGAGAAACGCC\",\n",
    "\"AAACCTGAGAAAGTGG\",\n",
    "\"AAACCTGAGAACAACT\",\n",
    "\"AAACCTGAGAACAATC\",\n",
    "\"AAACCTGAGAACTCGG\",\n",
    "]"
   ]
  },
  {
   "cell_type": "code",
   "execution_count": 8,
   "id": "b322e030-3bc2-4133-b300-cd17a8bcda3d",
   "metadata": {
    "tags": []
   },
   "outputs": [],
   "source": [
    "read_len = 150"
   ]
  },
  {
   "cell_type": "code",
   "execution_count": 9,
   "id": "e5a11375-9d92-4d1b-aa3f-cf894301703a",
   "metadata": {
    "tags": []
   },
   "outputs": [],
   "source": [
    "seq_info_list = [\n",
    "    {\"type\": \"Fix\", \"seq_list\": barcode_list, \"pos\":0},\n",
    "    {\"type\": \"Variable\"},\n",
    "    {\"type\": \"Fix\", \"seq_list\": fix1_list, \"pos\":40},\n",
    "    {\"type\": \"Variable\"},\n",
    "    {\"type\": \"Fix\", \"seq_list\": fix2_list, \"pos\":80},\n",
    "]"
   ]
  },
  {
   "cell_type": "code",
   "execution_count": 10,
   "id": "74899dd4-f44e-450c-a46b-0f2d819843a0",
   "metadata": {},
   "outputs": [],
   "source": [
    "fasta_list = barcode_list + fix1_list + fix2_list"
   ]
  },
  {
   "cell_type": "code",
   "execution_count": 11,
   "id": "959ed7a7-8632-4ca0-8a78-e9567f8b9afb",
   "metadata": {
    "tags": []
   },
   "outputs": [],
   "source": [
    "def get_random_pos(pos, range_len=5):\n",
    "    return random.randint(max(0, pos-range_len), min(pos + range_len, read_len))"
   ]
  },
  {
   "cell_type": "code",
   "execution_count": 16,
   "id": "7fab5297-b38e-4203-8629-460a30212013",
   "metadata": {
    "tags": []
   },
   "outputs": [],
   "source": [
    "def read_with_block(seq_info_list):\n",
    "    # block_info_list = []\n",
    "    read_name, seq, qual = generate_fastq_record(seq_length=150)\n",
    "    seq_list = list(seq)\n",
    "    block_pos_dict = {}\n",
    "    for idx, seq_info in enumerate(seq_info_list):\n",
    "        seq_type = seq_info[\"type\"]\n",
    "        idx = f\"{seq_type}_{idx}\"\n",
    "        if seq_type == \"Variable\":\n",
    "            block_info_list = [f\"{seq_type}_{idx}\", seq_type, \"\"]\n",
    "            continue\n",
    "        # if idx not in block_info_dict:\n",
    "        #     block_info_dict[idx] = {\"fasta_seq_id\": [], \"type\": seq_type}\n",
    "\n",
    "        subseq_list = seq_info[\"seq_list\"]\n",
    "        subseq = random.choice(subseq_list)\n",
    "        # if subseq not in block_info_dict[idx][\"fasta_seq_id\"]:\n",
    "        #     block_info_dict[idx][\"fasta_seq_id\"].append(subseq)\n",
    "        subseq_len = len(subseq)\n",
    "        start = get_random_pos(seq_info[\"pos\"])\n",
    "        end = start + subseq_len\n",
    "        seq_list[start: end] = list(subseq)\n",
    "        block_pos_dict[subseq] = [start, end]\n",
    "    seq_str = \"\".join(seq_list)\n",
    "    return read_name, seq_str, qual, block_pos_dict\n",
    "        # block_info_list = [f\"{seq_type}_{idx}\", seq_type, \"\"]\n"
   ]
  },
  {
   "cell_type": "code",
   "execution_count": 17,
   "id": "7d3e7974",
   "metadata": {},
   "outputs": [],
   "source": [
    "import pickle"
   ]
  },
  {
   "cell_type": "code",
   "execution_count": 26,
   "id": "d6b2731e-e9ad-4f49-8d22-611e6c626649",
   "metadata": {
    "tags": []
   },
   "outputs": [],
   "source": [
    "with open(\"data/test.fastq\", \"w\") as f, open(\"data/test.pos.pkl\", \"wb\") as pkl:\n",
    "    read_block_pos_dict = {}\n",
    "    for ii in range(100):\n",
    "        read = f\"read{ii:03d}\"\n",
    "        _, seq, qual, block_pos_dict = read_with_block(seq_info_list)\n",
    "        if ii % 2 == 0:\n",
    "            seq = reverse_complement(seq)\n",
    "        \n",
    "        line = f\"@{read}\\n{seq}\\n+\\n{qual}\\n\"\n",
    "        f.write(line)\n",
    "        read_block_pos_dict[read] = block_pos_dict\n",
    "    pickle.dump(read_block_pos_dict, pkl)"
   ]
  },
  {
   "cell_type": "code",
   "execution_count": null,
   "id": "76d2def6",
   "metadata": {},
   "outputs": [],
   "source": []
  },
  {
   "cell_type": "code",
   "execution_count": 25,
   "id": "402c8f0b",
   "metadata": {},
   "outputs": [
    {
     "data": {
      "text/plain": [
       "'CCCTATTCTAAATGAC'"
      ]
     },
     "execution_count": 25,
     "metadata": {},
     "output_type": "execute_result"
    }
   ],
   "source": [
    "reverse_complement(\"GTCATTTAGAATAGGG\")"
   ]
  },
  {
   "cell_type": "code",
   "execution_count": 27,
   "id": "bada92ea",
   "metadata": {},
   "outputs": [
    {
     "data": {
      "text/plain": [
       "[0, 16]"
      ]
     },
     "execution_count": 27,
     "metadata": {},
     "output_type": "execute_result"
    }
   ],
   "source": [
    "read_block_pos_dict[\"read001\"][\"AAACCTGAGAACTCGG\"]"
   ]
  },
  {
   "cell_type": "code",
   "execution_count": null,
   "id": "e2772b84",
   "metadata": {},
   "outputs": [],
   "source": []
  },
  {
   "cell_type": "code",
   "execution_count": null,
   "id": "0826f506",
   "metadata": {},
   "outputs": [],
   "source": []
  },
  {
   "cell_type": "markdown",
   "id": "e27ad45b",
   "metadata": {},
   "source": [
    "## write the blockinfo"
   ]
  },
  {
   "cell_type": "code",
   "execution_count": 25,
   "id": "9285bd9a-f78c-42fe-84ed-8829ec6ad703",
   "metadata": {},
   "outputs": [],
   "source": [
    "fasta_list =[]"
   ]
  },
  {
   "cell_type": "code",
   "execution_count": 100,
   "id": "3a655372-66d1-401c-8611-815ba6962b54",
   "metadata": {
    "tags": []
   },
   "outputs": [],
   "source": [
    "block_info_list = []\n",
    "for idx, seq_info in enumerate(seq_info_list):\n",
    "    seq_type = seq_info[\"type\"]\n",
    "    idx = f\"{seq_type}_{idx}\"\n",
    "    # block_info_list.append()\n",
    "    if seq_type == \"Variable\":\n",
    "        block_info_list.append([f\"{idx}\", seq_type, \"\"])\n",
    "        continue\n",
    "    fasta_id_list = \",\".join(seq_info[\"seq_list\"])\n",
    "    block_info_list.append([f\"{idx}\", seq_type, fasta_id_list])"
   ]
  },
  {
   "cell_type": "code",
   "execution_count": 101,
   "id": "76037f0b-8bdd-44e5-85ff-5c17473c9ab4",
   "metadata": {
    "tags": []
   },
   "outputs": [],
   "source": [
    "block_info_df = pd.DataFrame(block_info_list, \n",
    "        columns=[\"idx\", \"seq_type\", \"fasta_seq_id\"])"
   ]
  },
  {
   "cell_type": "code",
   "execution_count": 102,
   "id": "09978137-c748-4961-8843-222bb44ac0a8",
   "metadata": {
    "tags": []
   },
   "outputs": [],
   "source": [
    "block_info_df[\"max_mismatch\"] = 2\n",
    "block_info_df[\"query_start\"] = \"\"\n",
    "block_info_df[\"query_end\"] = \"\"\n",
    "block_info_df[\"seq_len\"] = \"\"\n",
    "block_info_df[\"method\"] = \"ANT\""
   ]
  },
  {
   "cell_type": "code",
   "execution_count": 103,
   "id": "202d0008-47ad-4b78-a050-a7c8dc7ae259",
   "metadata": {
    "tags": []
   },
   "outputs": [],
   "source": [
    "block_info_df.to_csv(\"data/blockinfo.tsv\", sep=\"\\t\", index=False)"
   ]
  },
  {
   "cell_type": "code",
   "execution_count": 89,
   "id": "ca4d0e7a-3839-4b6b-a9c1-beecaeb94b3f",
   "metadata": {
    "tags": []
   },
   "outputs": [],
   "source": [
    "fasta_list = barcode_list + fix1_list + fix2_list"
   ]
  },
  {
   "cell_type": "code",
   "execution_count": 92,
   "id": "8ba16a92-dbb1-4959-bb2e-df02c5ebb89e",
   "metadata": {
    "tags": []
   },
   "outputs": [],
   "source": [
    "with open(\"data/test.fasta\", \"w\") as f:\n",
    "    for xx in fasta_list:\n",
    "        line = f\">{xx}\\n{xx}\\n\"\n",
    "        f.write(line)"
   ]
  },
  {
   "cell_type": "code",
   "execution_count": null,
   "id": "4e1c99c8-5b56-4cd6-9687-9c3e328e422c",
   "metadata": {},
   "outputs": [],
   "source": [
    "# fasta_file"
   ]
  }
 ],
 "metadata": {
  "kernelspec": {
   "display_name": "Python 3 (ipykernel)",
   "language": "python",
   "name": "python3"
  },
  "language_info": {
   "codemirror_mode": {
    "name": "ipython",
    "version": 3
   },
   "file_extension": ".py",
   "mimetype": "text/x-python",
   "name": "python",
   "nbconvert_exporter": "python",
   "pygments_lexer": "ipython3",
   "version": "3.11.3"
  }
 },
 "nbformat": 4,
 "nbformat_minor": 5
}
